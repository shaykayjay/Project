{
 "cells": [
  {
   "cell_type": "markdown",
   "metadata": {},
   "source": [
    "# UCI Image Segmentation Data "
   ]
  },
  {
   "cell_type": "markdown",
   "metadata": {},
   "source": [
    "#### https://archive.ics.uci.edu/ml/datasets/Image+Segmentation"
   ]
  },
  {
   "cell_type": "markdown",
   "metadata": {},
   "source": [
    "Data description from https://archive.ics.uci.edu/ml/machine-learning-databases/image/segmentation.names:\n",
    "1. Title: Image Segmentation data\n",
    "\n",
    "2. Source Information\n",
    "   -- Creators: Vision Group, University of Massachusetts\n",
    "   -- Donor: Vision Group (Carla Brodley, brodley@cs.umass.edu)\n",
    "   -- Date: November, 1990\n",
    " \n",
    "3. Past Usage: None yet published\n",
    "\n",
    "4. Relevant Information:\n",
    "\n",
    "   The instances were drawn randomly from a database of 7 outdoor \n",
    "   images.  The images were handsegmented to create a classification\n",
    "   for every pixel.  \n",
    "\n",
    "   Each instance is a 3x3 region.\n",
    "\n",
    "5. Number of Instances: Training data: 210  Test data: 2100\n",
    "\n",
    "6. Number of Attributes: 19 continuous attributes\n",
    "\n",
    "7. Attribute Information:\n",
    "\n",
    "    1.  region-centroid-col:  the column of the center pixel of the region.\n",
    "    2.  region-centroid-row:  the row of the center pixel of the region.\n",
    "    3.  region-pixel-count:  the number of pixels in a region = 9.\n",
    "    4.  short-line-density-5:  the results of a line extractoin algorithm that \n",
    "         counts how many lines of length 5 (any orientation) with\n",
    "         low contrast, less than or equal to 5, go through the region.\n",
    "    5.  short-line-density-2:  same as short-line-density-5 but counts lines\n",
    "         of high contrast, greater than 5.\n",
    "    6.  vedge-mean:  measure the contrast of horizontally\n",
    "         adjacent pixels in the region.  There are 6, the mean and \n",
    "         standard deviation are given.  This attribute is used as\n",
    "        a vertical edge detector.\n",
    "    7.  vegde-sd:  (see 6)\n",
    "    8.  hedge-mean:  measures the contrast of vertically adjacent\n",
    "          pixels. Used for horizontal line detection. \n",
    "    9.  hedge-sd: (see 8).\n",
    "    10. intensity-mean:  the average over the region of (R + G + B)/3\n",
    "    11. rawred-mean: the average over the region of the R value.\n",
    "    12. rawblue-mean: the average over the region of the B value.\n",
    "    13. rawgreen-mean: the average over the region of the G value.\n",
    "    14. exred-mean: measure the excess red:  (2R - (G + B))\n",
    "    15. exblue-mean: measure the excess blue:  (2B - (G + R))\n",
    "    16. exgreen-mean: measure the excess green:  (2G - (R + B))\n",
    "    17. value-mean:  3-d nonlinear transformation\n",
    "         of RGB. (Algorithm can be found in Foley and VanDam, Fundamentals\n",
    "         of Interactive Computer Graphics)\n",
    "    18. saturatoin-mean:  (see 17)\n",
    "    19. hue-mean:  (see 17)\n",
    "\n",
    "8. Missing Attribute Values: None\n",
    "\n",
    "9. Class Distribution: \n",
    "\n",
    "   Classes:  brickface, sky, foliage, cement, window, path, grass.\n",
    "\n",
    "   30 instances per class for training data.\n",
    "   300 instances per class for test data.\n"
   ]
  },
  {
   "cell_type": "code",
   "execution_count": 72,
   "metadata": {
    "collapsed": false
   },
   "outputs": [],
   "source": [
    "%matplotlib inline\n",
    "import pandas as pd\n",
    "import numpy as np\n",
    "import matplotlib.pyplot as plt"
   ]
  },
  {
   "cell_type": "markdown",
   "metadata": {
    "collapsed": true
   },
   "source": [
    "### Test set and training set"
   ]
  },
  {
   "cell_type": "markdown",
   "metadata": {},
   "source": [
    "The data has been separated into training set, with 210 instances (30 instances for each class) in the training set and with 2100 instances (300 instances for each class) in the test set."
   ]
  },
  {
   "cell_type": "code",
   "execution_count": 73,
   "metadata": {
    "collapsed": false
   },
   "outputs": [],
   "source": [
    "train = pd.read_table('Source/segmentation.data',  sep=',', header=2, na_filter=True)\n",
    "test = pd.read_table('Source/segmentation.test',  sep=',', header=2, na_filter=True)"
   ]
  },
  {
   "cell_type": "code",
   "execution_count": 74,
   "metadata": {
    "collapsed": false
   },
   "outputs": [
    {
     "data": {
      "text/plain": [
       "(210, 19)"
      ]
     },
     "execution_count": 74,
     "metadata": {},
     "output_type": "execute_result"
    }
   ],
   "source": [
    "train.shape"
   ]
  },
  {
   "cell_type": "code",
   "execution_count": 75,
   "metadata": {
    "collapsed": false
   },
   "outputs": [
    {
     "data": {
      "text/plain": [
       "(2100, 19)"
      ]
     },
     "execution_count": 75,
     "metadata": {},
     "output_type": "execute_result"
    }
   ],
   "source": [
    "test.shape"
   ]
  },
  {
   "cell_type": "code",
   "execution_count": 76,
   "metadata": {
    "collapsed": false
   },
   "outputs": [
    {
     "data": {
      "text/html": [
       "<div>\n",
       "<table border=\"1\" class=\"dataframe\">\n",
       "  <thead>\n",
       "    <tr style=\"text-align: right;\">\n",
       "      <th></th>\n",
       "      <th>REGION-CENTROID-COL</th>\n",
       "      <th>REGION-CENTROID-ROW</th>\n",
       "      <th>REGION-PIXEL-COUNT</th>\n",
       "      <th>SHORT-LINE-DENSITY-5</th>\n",
       "      <th>SHORT-LINE-DENSITY-2</th>\n",
       "      <th>VEDGE-MEAN</th>\n",
       "      <th>VEDGE-SD</th>\n",
       "      <th>HEDGE-MEAN</th>\n",
       "      <th>HEDGE-SD</th>\n",
       "      <th>INTENSITY-MEAN</th>\n",
       "      <th>RAWRED-MEAN</th>\n",
       "      <th>RAWBLUE-MEAN</th>\n",
       "      <th>RAWGREEN-MEAN</th>\n",
       "      <th>EXRED-MEAN</th>\n",
       "      <th>EXBLUE-MEAN</th>\n",
       "      <th>EXGREEN-MEAN</th>\n",
       "      <th>VALUE-MEAN</th>\n",
       "      <th>SATURATION-MEAN</th>\n",
       "      <th>HUE-MEAN</th>\n",
       "    </tr>\n",
       "  </thead>\n",
       "  <tbody>\n",
       "    <tr>\n",
       "      <th>BRICKFACE</th>\n",
       "      <td>140</td>\n",
       "      <td>125</td>\n",
       "      <td>9</td>\n",
       "      <td>0</td>\n",
       "      <td>0</td>\n",
       "      <td>0.277778</td>\n",
       "      <td>0.062963</td>\n",
       "      <td>0.666667</td>\n",
       "      <td>0.311111</td>\n",
       "      <td>6.185185</td>\n",
       "      <td>7.333334</td>\n",
       "      <td>7.666666</td>\n",
       "      <td>3.555556</td>\n",
       "      <td>3.444444</td>\n",
       "      <td>4.444445</td>\n",
       "      <td>-7.888889</td>\n",
       "      <td>7.777778</td>\n",
       "      <td>0.545635</td>\n",
       "      <td>-1.121818</td>\n",
       "    </tr>\n",
       "    <tr>\n",
       "      <th>BRICKFACE</th>\n",
       "      <td>188</td>\n",
       "      <td>133</td>\n",
       "      <td>9</td>\n",
       "      <td>0</td>\n",
       "      <td>0</td>\n",
       "      <td>0.333333</td>\n",
       "      <td>0.266667</td>\n",
       "      <td>0.500000</td>\n",
       "      <td>0.077778</td>\n",
       "      <td>6.666666</td>\n",
       "      <td>8.333334</td>\n",
       "      <td>7.777778</td>\n",
       "      <td>3.888889</td>\n",
       "      <td>5.000000</td>\n",
       "      <td>3.333333</td>\n",
       "      <td>-8.333333</td>\n",
       "      <td>8.444445</td>\n",
       "      <td>0.538580</td>\n",
       "      <td>-0.924817</td>\n",
       "    </tr>\n",
       "    <tr>\n",
       "      <th>BRICKFACE</th>\n",
       "      <td>105</td>\n",
       "      <td>139</td>\n",
       "      <td>9</td>\n",
       "      <td>0</td>\n",
       "      <td>0</td>\n",
       "      <td>0.277778</td>\n",
       "      <td>0.107407</td>\n",
       "      <td>0.833333</td>\n",
       "      <td>0.522222</td>\n",
       "      <td>6.111111</td>\n",
       "      <td>7.555555</td>\n",
       "      <td>7.222222</td>\n",
       "      <td>3.555556</td>\n",
       "      <td>4.333334</td>\n",
       "      <td>3.333333</td>\n",
       "      <td>-7.666666</td>\n",
       "      <td>7.555555</td>\n",
       "      <td>0.532628</td>\n",
       "      <td>-0.965946</td>\n",
       "    </tr>\n",
       "    <tr>\n",
       "      <th>BRICKFACE</th>\n",
       "      <td>34</td>\n",
       "      <td>137</td>\n",
       "      <td>9</td>\n",
       "      <td>0</td>\n",
       "      <td>0</td>\n",
       "      <td>0.500000</td>\n",
       "      <td>0.166667</td>\n",
       "      <td>1.111111</td>\n",
       "      <td>0.474074</td>\n",
       "      <td>5.851852</td>\n",
       "      <td>7.777778</td>\n",
       "      <td>6.444445</td>\n",
       "      <td>3.333333</td>\n",
       "      <td>5.777778</td>\n",
       "      <td>1.777778</td>\n",
       "      <td>-7.555555</td>\n",
       "      <td>7.777778</td>\n",
       "      <td>0.573633</td>\n",
       "      <td>-0.744272</td>\n",
       "    </tr>\n",
       "    <tr>\n",
       "      <th>BRICKFACE</th>\n",
       "      <td>39</td>\n",
       "      <td>111</td>\n",
       "      <td>9</td>\n",
       "      <td>0</td>\n",
       "      <td>0</td>\n",
       "      <td>0.722222</td>\n",
       "      <td>0.374074</td>\n",
       "      <td>0.888889</td>\n",
       "      <td>0.429629</td>\n",
       "      <td>6.037037</td>\n",
       "      <td>7.000000</td>\n",
       "      <td>7.666666</td>\n",
       "      <td>3.444444</td>\n",
       "      <td>2.888889</td>\n",
       "      <td>4.888889</td>\n",
       "      <td>-7.777778</td>\n",
       "      <td>7.888889</td>\n",
       "      <td>0.562919</td>\n",
       "      <td>-1.175773</td>\n",
       "    </tr>\n",
       "  </tbody>\n",
       "</table>\n",
       "</div>"
      ],
      "text/plain": [
       "           REGION-CENTROID-COL  REGION-CENTROID-ROW  REGION-PIXEL-COUNT  \\\n",
       "BRICKFACE                  140                  125                   9   \n",
       "BRICKFACE                  188                  133                   9   \n",
       "BRICKFACE                  105                  139                   9   \n",
       "BRICKFACE                   34                  137                   9   \n",
       "BRICKFACE                   39                  111                   9   \n",
       "\n",
       "           SHORT-LINE-DENSITY-5  SHORT-LINE-DENSITY-2  VEDGE-MEAN  VEDGE-SD  \\\n",
       "BRICKFACE                     0                     0    0.277778  0.062963   \n",
       "BRICKFACE                     0                     0    0.333333  0.266667   \n",
       "BRICKFACE                     0                     0    0.277778  0.107407   \n",
       "BRICKFACE                     0                     0    0.500000  0.166667   \n",
       "BRICKFACE                     0                     0    0.722222  0.374074   \n",
       "\n",
       "           HEDGE-MEAN  HEDGE-SD  INTENSITY-MEAN  RAWRED-MEAN  RAWBLUE-MEAN  \\\n",
       "BRICKFACE    0.666667  0.311111        6.185185     7.333334      7.666666   \n",
       "BRICKFACE    0.500000  0.077778        6.666666     8.333334      7.777778   \n",
       "BRICKFACE    0.833333  0.522222        6.111111     7.555555      7.222222   \n",
       "BRICKFACE    1.111111  0.474074        5.851852     7.777778      6.444445   \n",
       "BRICKFACE    0.888889  0.429629        6.037037     7.000000      7.666666   \n",
       "\n",
       "           RAWGREEN-MEAN  EXRED-MEAN  EXBLUE-MEAN  EXGREEN-MEAN  VALUE-MEAN  \\\n",
       "BRICKFACE       3.555556    3.444444     4.444445     -7.888889    7.777778   \n",
       "BRICKFACE       3.888889    5.000000     3.333333     -8.333333    8.444445   \n",
       "BRICKFACE       3.555556    4.333334     3.333333     -7.666666    7.555555   \n",
       "BRICKFACE       3.333333    5.777778     1.777778     -7.555555    7.777778   \n",
       "BRICKFACE       3.444444    2.888889     4.888889     -7.777778    7.888889   \n",
       "\n",
       "           SATURATION-MEAN  HUE-MEAN  \n",
       "BRICKFACE         0.545635 -1.121818  \n",
       "BRICKFACE         0.538580 -0.924817  \n",
       "BRICKFACE         0.532628 -0.965946  \n",
       "BRICKFACE         0.573633 -0.744272  \n",
       "BRICKFACE         0.562919 -1.175773  "
      ]
     },
     "execution_count": 76,
     "metadata": {},
     "output_type": "execute_result"
    }
   ],
   "source": [
    "train.head()"
   ]
  },
  {
   "cell_type": "markdown",
   "metadata": {
    "collapsed": false
   },
   "source": [
    "Index label column"
   ]
  },
  {
   "cell_type": "code",
   "execution_count": 77,
   "metadata": {
    "collapsed": true
   },
   "outputs": [],
   "source": [
    "train.index.name = 'label'\n",
    "train.reset_index(inplace=True)\n",
    "\n",
    "test.index.name = 'label'\n",
    "test.reset_index(inplace=True)"
   ]
  },
  {
   "cell_type": "markdown",
   "metadata": {
    "collapsed": false
   },
   "source": [
    "Create array with labels for the test and training data. Drop the label column in the test and train arrays\n"
   ]
  },
  {
   "cell_type": "code",
   "execution_count": 78,
   "metadata": {
    "collapsed": false
   },
   "outputs": [
    {
     "name": "stdout",
     "output_type": "stream",
     "text": [
      "['BRICKFACE' 'CEMENT' 'FOLIAGE' 'GRASS' 'PATH' 'SKY' 'WINDOW']\n"
     ]
    }
   ],
   "source": [
    "train_label = train.label\n",
    "train = train.drop('label', 1)\n",
    "\n",
    "test_label = test.label\n",
    "test = test.drop('label', 1)\n",
    "\n",
    "label = np.unique(test_label)\n",
    "print label"
   ]
  },
  {
   "cell_type": "markdown",
   "metadata": {},
   "source": [
    "### Random Forest Classifier"
   ]
  },
  {
   "cell_type": "code",
   "execution_count": 79,
   "metadata": {
    "collapsed": false
   },
   "outputs": [],
   "source": [
    "from sklearn.ensemble import RandomForestClassifier\n",
    "clf = RandomForestClassifier()\n",
    "clf = clf.fit(train, train_label)"
   ]
  },
  {
   "cell_type": "markdown",
   "metadata": {},
   "source": [
    "#### Accuracy score"
   ]
  },
  {
   "cell_type": "code",
   "execution_count": 80,
   "metadata": {
    "collapsed": false
   },
   "outputs": [
    {
     "name": "stdout",
     "output_type": "stream",
     "text": [
      "Accuracy:0.947\n"
     ]
    }
   ],
   "source": [
    "from sklearn import metrics\n",
    "pred = clf.predict(test)\n",
    "accuracy = metrics.accuracy_score(test_label, pred)\n",
    "print \"Accuracy:{0:.3f}\".format(accuracy)"
   ]
  },
  {
   "cell_type": "markdown",
   "metadata": {},
   "source": [
    "#### Classification report"
   ]
  },
  {
   "cell_type": "code",
   "execution_count": 81,
   "metadata": {
    "collapsed": false
   },
   "outputs": [
    {
     "name": "stdout",
     "output_type": "stream",
     "text": [
      "Classification report\n",
      "             precision    recall  f1-score   support\n",
      "\n",
      "  BRICKFACE       0.97      0.99      0.98       300\n",
      "     CEMENT       0.90      0.94      0.92       300\n",
      "    FOLIAGE       0.89      0.90      0.90       300\n",
      "      GRASS       1.00      0.99      0.99       300\n",
      "       PATH       0.98      0.99      0.99       300\n",
      "        SKY       1.00      1.00      1.00       300\n",
      "     WINDOW       0.88      0.82      0.85       300\n",
      "\n",
      "avg / total       0.95      0.95      0.95      2100\n",
      "\n"
     ]
    }
   ],
   "source": [
    "print \"Classification report\"\n",
    "print metrics.classification_report(test_label, pred)"
   ]
  },
  {
   "cell_type": "markdown",
   "metadata": {},
   "source": [
    "#### Confusion Matrix"
   ]
  },
  {
   "cell_type": "code",
   "execution_count": 69,
   "metadata": {
    "collapsed": false
   },
   "outputs": [
    {
     "name": "stdout",
     "output_type": "stream",
     "text": [
      "Confusion Matrix\n",
      "[[289   3   1   0   0   0   7]\n",
      " [  1 268   2   1   0   0  28]\n",
      " [  2   6 265   0   0   1  26]\n",
      " [  0   0   0 299   0   0   1]\n",
      " [  0   0   1   1 298   0   0]\n",
      " [  0   0   0   0   0 300   0]\n",
      " [  3   8  39   0   0   0 250]]\n"
     ]
    }
   ],
   "source": [
    "print \"Confusion Matrix\"\n",
    "print metrics.confusion_matrix(test_label, pred)"
   ]
  },
  {
   "cell_type": "code",
   "execution_count": null,
   "metadata": {
    "collapsed": true
   },
   "outputs": [],
   "source": []
  },
  {
   "cell_type": "code",
   "execution_count": null,
   "metadata": {
    "collapsed": true
   },
   "outputs": [],
   "source": []
  },
  {
   "cell_type": "code",
   "execution_count": null,
   "metadata": {
    "collapsed": true
   },
   "outputs": [],
   "source": []
  },
  {
   "cell_type": "code",
   "execution_count": null,
   "metadata": {
    "collapsed": true
   },
   "outputs": [],
   "source": []
  }
 ],
 "metadata": {
  "kernelspec": {
   "display_name": "Python 2",
   "language": "python",
   "name": "python2"
  },
  "language_info": {
   "codemirror_mode": {
    "name": "ipython",
    "version": 2
   },
   "file_extension": ".py",
   "mimetype": "text/x-python",
   "name": "python",
   "nbconvert_exporter": "python",
   "pygments_lexer": "ipython2",
   "version": "2.7.6"
  }
 },
 "nbformat": 4,
 "nbformat_minor": 0
}
